{
 "cells": [
  {
   "cell_type": "code",
   "execution_count": 1,
   "metadata": {},
   "outputs": [],
   "source": [
    "import pandas as pd\n",
    "import numpy as np\n",
    "import os\n",
    "import random\n",
    "from scipy.stats import pearsonr,spearmanr"
   ]
  },
  {
   "cell_type": "code",
   "execution_count": 2,
   "metadata": {},
   "outputs": [],
   "source": [
    "# load brain measures\n",
    "\n",
    "# CSA phenotypes fields\n",
    "area_items = pd.read_csv('raw_data/Area_items.csv')\n",
    "s1 = ['eid']\n",
    "for i in range(area_items.shape[0]):\n",
    "    s1.append(str(area_items.iloc[i,0])+'-2.0')\n",
    "# load CSA data   \n",
    "data1 = pd.read_csv('/dbstore/UKBiobank/Data_Download_02JULY2020/ukb42608.csv',usecols=s1)\n",
    "data1.dropna(axis=0,how='any',inplace=True)\n",
    "\n",
    "\n",
    "# CT phenotypes fields\n",
    "thickness_items = pd.read_csv('raw_data/Thickness_items.csv')\n",
    "s2= ['eid']\n",
    "for i in range(thickness_items.shape[0]):\n",
    "    s2.append(str(thickness_items.iloc[i,0])+'-2.0')   \n",
    "# load CT data\n",
    "data2 = pd.read_csv('/dbstore/UKBiobank/Data_Download_02JULY2020/ukb42608.csv',usecols=s2)\n",
    "data2.dropna(axis=0,how='any',inplace=True)\n",
    "\n",
    "# load functional connectivity between 21 networks\n",
    "temp_FC_data = pd.read_csv('raw_data/ukbb_FC2.csv')"
   ]
  },
  {
   "cell_type": "code",
   "execution_count": 5,
   "metadata": {},
   "outputs": [],
   "source": [
    "# load global brain measures (rsfMRI head motion,total gray matter volume,ICV, total CT, average CT, scanning sites)\n",
    "global_brain_cols = ['eid','25741-2.0','25005-2.0','26521-2.0','26721-2.0','26822-2.0','26755-2.0','26856-2.0','54-2.0']\n",
    "cov1 = pd.read_csv('/dbstore/UKBiobank/Data_Download_02JULY2020/ukb42608.csv',usecols=global_brain_cols)\n",
    "cov1.dropna(how='any',inplace=True)\n",
    "# coding three scanning sites\n",
    "sites1 = []\n",
    "sites2 = []\n",
    "sites3 = []\n",
    "for i in range(cov1.shape[0]):\n",
    "    if cov1['54-2.0'].iloc[i] == 11025:\n",
    "        sites1.append(1)\n",
    "        sites2.append(0)\n",
    "        sites3.append(0)\n",
    "    if cov1['54-2.0'].iloc[i] == 11026:\n",
    "        sites1.append(0)\n",
    "        sites2.append(1)\n",
    "        sites3.append(0)\n",
    "    if cov1['54-2.0'].iloc[i] == 11027:\n",
    "        sites1.append(0)\n",
    "        sites2.append(0)\n",
    "        sites3.append(1)\n",
    "cov1['site1'] = sites1\n",
    "cov1['site2'] = sites2\n",
    "cov1['site3'] = sites3"
   ]
  },
  {
   "cell_type": "code",
   "execution_count": 6,
   "metadata": {},
   "outputs": [],
   "source": [
    "# define the targt trait \n",
    "#'Age','BMI' (Body mass index),'IQ' (fluid intelligence),'NM' (Numeric memeory),\n",
    "#'alcohol' (alcohol consumption),'NS' (Neuroticism),'BM' (Birth month)\n",
    "trait = 'NS' \n",
    "pheno_path = 'raw_data/ukbb_phenos/'\n",
    "pheno = pd.read_csv(os.path.join(pheno_path,trait+'.csv'))\n",
    "pheno_colname = pheno.columns.values[1]\n",
    "pheno = pheno[pheno[pheno_colname] >= 0]\n",
    "\n",
    "# get information about age ,sex\n",
    "if trait == 'Age':\n",
    "    cov2 = pd.read_csv('raw_data/Sex.csv')\n",
    "else:\n",
    "    Sex = pd.read_csv('raw_data/Sex.csv').set_index('eid')\n",
    "    Age = pd.read_csv('raw_data/ukbb_phenos/Age.csv').set_index('eid')\n",
    "    cov2 = pd.concat([Age,Sex], axis=1,join=\"inner\").reset_index() "
   ]
  },
  {
   "cell_type": "code",
   "execution_count": 7,
   "metadata": {},
   "outputs": [],
   "source": [
    "# overlap datasets by subject ids\n",
    "data11 = data1.set_index('eid')\n",
    "data22 = data2.set_index('eid')\n",
    "temp_FC_data2 = temp_FC_data.set_index('eid')\n",
    "cov11 = cov1.set_index('eid')\n",
    "cov22 = cov2.set_index('eid')\n",
    "pheno2 = pheno.set_index('eid')\n",
    "\n",
    "l = list(set(data11.index) & set(data22.index) & set(temp_FC_data2.index) & set(cov11.index) & \\\n",
    "         set(cov22.index) & set(pheno2.index))\n",
    "\n",
    "CSA_data = data11.loc[l]\n",
    "CT_data = data22.loc[l]\n",
    "FC_data = temp_FC_data2.loc[l]\n",
    "global_data = cov11.loc[l]\n",
    "age_and_sex = cov22.loc[l]\n",
    "Y = pheno2.loc[l]"
   ]
  },
  {
   "cell_type": "code",
   "execution_count": 8,
   "metadata": {},
   "outputs": [],
   "source": [
    "# save subject list\n",
    "subj_list = pd.DataFrame(data=Y.index)\n",
    "subj_list.to_csv('raw_data/ukbb_subjs/'+trait+'_subjs.txt',index=False,header=None)"
   ]
  },
  {
   "cell_type": "code",
   "execution_count": 9,
   "metadata": {},
   "outputs": [],
   "source": [
    "# transfer the column names of global brain measures\n",
    "global_data2 = pd.DataFrame({\"eid\" : global_data.index})\n",
    "global_data2['motion'] = global_data['25741-2.0'].values\n",
    "global_data2['TCSA'] = global_data['26721-2.0'].values + global_data['26822-2.0'].values\n",
    "global_data2['ACT'] = global_data['26755-2.0'].values + global_data['26856-2.0'].values\n",
    "global_data2['site1'] = global_data['site1'].values\n",
    "global_data2['site2'] = global_data['site2'].values\n",
    "global_data2['site3'] = global_data['site3'].values\n",
    "global_data2.set_index('eid',inplace=True)"
   ]
  },
  {
   "cell_type": "code",
   "execution_count": 10,
   "metadata": {},
   "outputs": [],
   "source": [
    "# build a function to get the covariates\n",
    "# info1 is the matrix including global brain measures\n",
    "# info2 is the matrix including age and sex\n",
    "def get_covariates(info1,info2,cotype):\n",
    "    if cotype == 'CSA':\n",
    "        co_items = ['TCSA','site1','site2','site3']\n",
    "    if cotype == 'CT':\n",
    "        co_items = ['ACT','site1','site2','site3']\n",
    "    if cotype == 'FC':\n",
    "        co_items = ['motion','site1','site2','site3']\n",
    "    if cotype == 'pheno':\n",
    "        co_items = ['TCSA','ACT','motion','site1','site2','site3']\n",
    "    \n",
    "    info11 = info1[co_items]\n",
    "    info = pd.concat([info11,info2], axis=1,join=\"inner\")\n",
    "    return info"
   ]
  },
  {
   "cell_type": "code",
   "execution_count": 11,
   "metadata": {},
   "outputs": [],
   "source": [
    "# regressing out the effects of covariates\n",
    "from sklearn.preprocessing import StandardScaler\n",
    "def regression_covariant(covariant_matrix, y, standard_scale=True):\n",
    "    a = np.hstack((covariant_matrix,np.ones((covariant_matrix.shape[0], 1))))\n",
    "    w = np.linalg.lstsq(a,y,rcond=None)[0]\n",
    "\n",
    "    residual = y - covariant_matrix.dot(w[:-1])\n",
    "    residual = residual.astype('float64')\n",
    "\n",
    "    if standard_scale:\n",
    "        residual = StandardScaler().fit_transform(residual.reshape(-1,1)).flatten()\n",
    "\n",
    "    return residual, w\n",
    "\n",
    "# data is the neuroimaging measures or phenotypes\n",
    "# co is the covariates\n",
    "def regress_data(data,co):\n",
    "    codata = co.values\n",
    "    s1 = data.shape\n",
    "    reg_data = np.zeros(s1)\n",
    "    for i in range(s1[1]):\n",
    "        x = data.iloc[:,i].values\n",
    "        [rx,w1] = regression_covariant(codata,x,standard_scale=False)\n",
    "        reg_data[:,i] = rx\n",
    "    return reg_data"
   ]
  },
  {
   "cell_type": "code",
   "execution_count": 12,
   "metadata": {},
   "outputs": [],
   "source": [
    "# regress out the covariates for brain measures and the variable\n",
    "CSA_co = get_covariates(global_data2,age_and_sex,'CSA')\n",
    "reg_CSA_data = regress_data(CSA_data,CSA_co)\n",
    "\n",
    "CT_co = get_covariates(global_data2,age_and_sex,'CT')\n",
    "reg_CT_data = regress_data(CT_data,CT_co)\n",
    "\n",
    "FC_co = get_covariates(global_data2,age_and_sex,'FC')\n",
    "reg_FC_data = regress_data(FC_data,FC_co)\n",
    "\n",
    "pheno_co = get_covariates(global_data2,age_and_sex,'pheno')\n",
    "if trait == 'BM':\n",
    "    reg_var_data = Y.values\n",
    "else:\n",
    "    reg_var_data = regress_data(Y,pheno_co)"
   ]
  },
  {
   "cell_type": "markdown",
   "metadata": {},
   "source": [
    "## calculate_correlations_in_full_sample: The main function to calculate correlations between brain measures and a variable in the full sample\n",
    "### input parameters: img_data, variable, mytype, output_path\n",
    "**img_data:** Neuroimaging measures (size =*n* x *d*, n is sample size, d is the number of brain measures)\n",
    "\n",
    "**variable:** The variable matrix (size = *n* x 1)\n",
    "\n",
    "**mytype:** The imaging type: \"CSA\", \"CT\", or \"FC\"\n",
    "\n",
    "**output_path:** The folder where the results of correlations in full sample are saved "
   ]
  },
  {
   "cell_type": "code",
   "execution_count": 13,
   "metadata": {},
   "outputs": [],
   "source": [
    "def calculate_correlations_in_full_sample(img_data,variable,mytype,output_path):\n",
    "    s = img_data.shape\n",
    "    corr_data = np.zeros((s[1],2))\n",
    "    regions = pd.read_csv('raw_data/Area_items.csv').iloc[:,-1].values.tolist()\n",
    "    y = variable[:,0]\n",
    "    for i in range(s[1]):\n",
    "        x = img_data[:,i]\n",
    "        r,p = spearmanr(x,y)\n",
    "        corr_data[i,0] = r\n",
    "        corr_data[i,1] = p\n",
    "    \n",
    "    d = pd.DataFrame(data=corr_data,columns=[['r','p']])\n",
    "    if mytype == 'FC':\n",
    "        d['FCs'] = np.arange(210) + 1\n",
    "    else:\n",
    "        d['regions'] = regions\n",
    "    \n",
    "    file_name = output_path+mytype+'_'+trait+'.csv'\n",
    "    d.to_csv(file_name,index=False)"
   ]
  },
  {
   "cell_type": "code",
   "execution_count": 14,
   "metadata": {},
   "outputs": [],
   "source": [
    "# correlation analysis in full sample\n",
    "calculate_correlations_in_full_sample(reg_CSA_data,reg_var_data,'CSA','correlations_full_sample/')\n",
    "calculate_correlations_in_full_sample(reg_CT_data,reg_var_data,'CT','correlations_full_sample/')\n",
    "calculate_correlations_in_full_sample(reg_FC_data,reg_var_data,'FC','correlations_full_sample/')"
   ]
  },
  {
   "cell_type": "markdown",
   "metadata": {},
   "source": [
    "## calculate_correlations: The main function to calculate correlations between brain measures and a variable using bootstrapping methods\n",
    "### input parameters: img_data, variable\n",
    "**img_data:** Neuroimaging measures (size =*n* x *d*, n is sample size, d is the number of brain measures)\n",
    "\n",
    "**variable:** The variable matrix (size = *n* x 1)\n",
    "\n",
    "#### The subsample sizes:100,200,300,400,...n/2\n",
    "#### The random selection times = 100"
   ]
  },
  {
   "cell_type": "code",
   "execution_count": 15,
   "metadata": {},
   "outputs": [],
   "source": [
    "def calculate_correlations(img_data, variable):\n",
    "    s = img_data.shape\n",
    "    # the subsample sizes:100,200,300,400,...s[0]/2\n",
    "    subsampling_times = int(s[0]/200)\n",
    "    # the random selection times \n",
    "    random_num = 100\n",
    "    \n",
    "    # create empty arrays\n",
    "    random_img1 = np.zeros((subsampling_times,random_num,s[1],2))\n",
    "    random_img2 = np.zeros((subsampling_times,random_num,s[1],2))\n",
    "\n",
    "    for i in range(subsampling_times):\n",
    "        print(i)\n",
    "        #subsample size\n",
    "        random_sample = 100*(i+1)\n",
    "        \n",
    "        for j in range(random_num):\n",
    "            # random select two non-overlapping subsamples\n",
    "            total_list = np.arange(s[0]).tolist()\n",
    "            random_inds1 = random.sample(total_list,random_sample)\n",
    "            rest_total_list = list(set(total_list) - set(random_inds1))\n",
    "            random_inds2 = random.sample(rest_total_list,random_sample)\n",
    "            X1 = img_data[random_inds1,:]\n",
    "            X2 = img_data[random_inds2,:]\n",
    "            m1 = variable[random_inds1,0]\n",
    "            m2 = variable[random_inds2,0]\n",
    "            \n",
    "            # Spearman's correlation analysis\n",
    "            for k in range(s[1]):\n",
    "                r1,p1 = spearmanr(X1[:,k],m1)\n",
    "                r2,p2 = spearmanr(X2[:,k],m2)\n",
    "                random_img1[i,j,k,0] = r1\n",
    "                random_img1[i,j,k,1] = p1\n",
    "                random_img2[i,j,k,0] = r2\n",
    "                random_img2[i,j,k,1] = p2\n",
    "\n",
    "                \n",
    "    return random_img1,random_img2"
   ]
  },
  {
   "cell_type": "code",
   "execution_count": 1,
   "metadata": {},
   "outputs": [],
   "source": [
    "# bootstrapping correlation analysis\n",
    "random_data_CT1,random_data_CT2 = calculate_correlations(reg_CT_data,reg_var_data)\n",
    "random_data_FC1,random_data_FC2 = calculate_correlations(reg_FC_data,reg_var_data)\n",
    "random_data_CSA1,random_data_CSA2 = calculate_correlations(reg_CSA_data,reg_var_data)"
   ]
  },
  {
   "cell_type": "code",
   "execution_count": 19,
   "metadata": {},
   "outputs": [],
   "source": [
    "# save the results of correlation analysis\n",
    "if not os.path.exists('boostrap_correlations/'+trait):\n",
    "    os.mkdir('boostrap_correlations/'+trait)\n",
    "save_path = 'boostrap_correlations/'+trait\n",
    "CSA_file_name1 = save_path+'/random_data_CSA1.npy'\n",
    "CSA_file_name2 = save_path+'/random_data_CSA2.npy'\n",
    "CT_file_name1 = save_path+'/random_data_CT1.npy'\n",
    "CT_file_name2 = save_path+'/random_data_CT2.npy'\n",
    "FC_file_name1 = save_path+'/random_data_FC1.npy'\n",
    "FC_file_name2 = save_path+'/random_data_FC2.npy'\n",
    "\n",
    "np.save(CSA_file_name1,random_data_CSA1)\n",
    "np.save(CSA_file_name2,random_data_CSA2)\n",
    "np.save(CT_file_name1,random_data_CT1)\n",
    "np.save(CT_file_name2,random_data_CT2)\n",
    "np.save(FC_file_name1,random_data_FC1)\n",
    "np.save(FC_file_name2,random_data_FC2)"
   ]
  },
  {
   "cell_type": "code",
   "execution_count": null,
   "metadata": {},
   "outputs": [],
   "source": []
  }
 ],
 "metadata": {
  "kernelspec": {
   "display_name": "Python 3",
   "language": "python",
   "name": "python3"
  },
  "language_info": {
   "codemirror_mode": {
    "name": "ipython",
    "version": 3
   },
   "file_extension": ".py",
   "mimetype": "text/x-python",
   "name": "python",
   "nbconvert_exporter": "python",
   "pygments_lexer": "ipython3",
   "version": "3.7.3"
  }
 },
 "nbformat": 4,
 "nbformat_minor": 2
}
