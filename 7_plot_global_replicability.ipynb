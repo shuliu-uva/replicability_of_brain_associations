{
 "cells": [
  {
   "cell_type": "code",
   "execution_count": 1,
   "metadata": {},
   "outputs": [],
   "source": [
    "import pandas as pd\n",
    "import numpy as np\n",
    "import os\n",
    "from matplotlib import pyplot as plt\n",
    "from scipy.signal import savgol_filter"
   ]
  },
  {
   "cell_type": "code",
   "execution_count": 2,
   "metadata": {},
   "outputs": [],
   "source": [
    "# function to visualize the Jaccard index\n",
    "def plot_Jaccard_figure(data,traits,t,my_type,output_file,times):\n",
    "    \n",
    "    trait_num = data.shape[1]\n",
    "    total_colors = ['#1f77b4', '#ff7f0e', '#2ca02c', '#d62728', '#8c564b', '#9467bd', '#e377c2', '#7f7f7f', '#bcbd22', '#17becf']\n",
    "    colors = total_colors[:trait_num]\n",
    "    \n",
    "    fig = plt.figure(figsize=(16,8))\n",
    "    for i in range(trait_num):\n",
    "        subsampling_times = times[i]\n",
    "        x = np.arange(0,subsampling_times*100,100) + 100\n",
    "        plt.plot(x,data[:subsampling_times,i],'k',color=colors[i],label=traits[i],linewidth=4)\n",
    " \n",
    "    plt.ylabel('Jaccard index',fontsize=30)\n",
    "    if t == 'fdr':\n",
    "        my_title = my_type + \": FDR\"\n",
    "    elif t == 'bonferroni':\n",
    "        my_title = my_type + \": \" + t\n",
    "    else:\n",
    "        my_title = my_type + \": p < \" + t\n",
    "    \n",
    "    ax = plt.gca()\n",
    "    ax.spines['top'].set_linewidth(3)\n",
    "    ax.spines['bottom'].set_linewidth(3)\n",
    "    ax.spines['left'].set_linewidth(3)\n",
    "    ax.spines['right'].set_linewidth(3)\n",
    "    \n",
    "    plt.title(my_title,fontsize=30)\n",
    "    plt.ylim(-0.05,1.1)\n",
    "    plt.xlim(-500,subsampling_times*100)\n",
    "    plt.xlabel('sample size',fontsize=30)\n",
    "    plt.tick_params(direction='out', length=10, width=4,labelsize=30)\n",
    "#     plt.show()\n",
    "    fig.savefig(output_file,dpi=300,bbox_inches = 'tight')\n",
    "    plt.clf()"
   ]
  },
  {
   "cell_type": "markdown",
   "metadata": {},
   "source": [
    "## conducting_plot_Jaccard: main function to plot Jaccard index\n",
    "### The input parameters are as below:\n",
    "\n",
    "1. mypath is the folder which includes the Jaccard results\n",
    "\n",
    "2. files are the phenotypes, for example, files = ['Age','BMI','IQ','NM','NS','alcohol','BM']\n",
    "\n",
    "3. ts indictaes the significance thresholds: p<0.05, p<0.01, fdr_p<0.05, fdr_bonferroni<0.05. For example, ts = ['0.05', '0.01','fdr','bonferroni']\n",
    "\n",
    "4. my_type indicates the imaging type: \"CSA\",\"CT\", or \"FC\"\n",
    "\n",
    "5. output_path is the folder to save the Jaccard figures"
   ]
  },
  {
   "cell_type": "code",
   "execution_count": 3,
   "metadata": {},
   "outputs": [],
   "source": [
    "def conducting_plot_Jaccard(mypath,files,ts,my_type,output_path):\n",
    "    # The maximum sample size in x axis is 16,000\n",
    "    subsampling_times = 160\n",
    "    for t in ts:\n",
    "        Jaccard_data = np.zeros((subsampling_times,len(files)))\n",
    "        real_subsampling_times = []\n",
    "        for i in range(len(files)):\n",
    "            f = files[i]\n",
    "            reliability = pd.read_csv(mypath+f+'/'+my_type+'_Jaccard_index_'+t+'.csv')\n",
    "            tmp = reliability.shape[0]\n",
    "            if tmp > subsampling_times:\n",
    "                tmp = subsampling_times\n",
    "            real_subsampling_times.append(tmp)\n",
    "\n",
    "            Jaccard_data[:tmp,i] = np.round(savgol_filter(reliability.iloc[:tmp,0].values,7,2),3)\n",
    "\n",
    "        plot_Jaccard_figure(Jaccard_data,files,t,my_type,output_path+my_type+'_Jaccard_'+t+'.png',real_subsampling_times)"
   ]
  },
  {
   "cell_type": "code",
   "execution_count": 4,
   "metadata": {},
   "outputs": [
    {
     "data": {
      "text/plain": [
       "<Figure size 1152x576 with 0 Axes>"
      ]
     },
     "metadata": {},
     "output_type": "display_data"
    },
    {
     "data": {
      "text/plain": [
       "<Figure size 1152x576 with 0 Axes>"
      ]
     },
     "metadata": {},
     "output_type": "display_data"
    },
    {
     "data": {
      "text/plain": [
       "<Figure size 1152x576 with 0 Axes>"
      ]
     },
     "metadata": {},
     "output_type": "display_data"
    },
    {
     "data": {
      "text/plain": [
       "<Figure size 1152x576 with 0 Axes>"
      ]
     },
     "metadata": {},
     "output_type": "display_data"
    },
    {
     "data": {
      "text/plain": [
       "<Figure size 1152x576 with 0 Axes>"
      ]
     },
     "metadata": {},
     "output_type": "display_data"
    },
    {
     "data": {
      "text/plain": [
       "<Figure size 1152x576 with 0 Axes>"
      ]
     },
     "metadata": {},
     "output_type": "display_data"
    },
    {
     "data": {
      "text/plain": [
       "<Figure size 1152x576 with 0 Axes>"
      ]
     },
     "metadata": {},
     "output_type": "display_data"
    },
    {
     "data": {
      "text/plain": [
       "<Figure size 1152x576 with 0 Axes>"
      ]
     },
     "metadata": {},
     "output_type": "display_data"
    },
    {
     "data": {
      "text/plain": [
       "<Figure size 1152x576 with 0 Axes>"
      ]
     },
     "metadata": {},
     "output_type": "display_data"
    },
    {
     "data": {
      "text/plain": [
       "<Figure size 1152x576 with 0 Axes>"
      ]
     },
     "metadata": {},
     "output_type": "display_data"
    },
    {
     "data": {
      "text/plain": [
       "<Figure size 1152x576 with 0 Axes>"
      ]
     },
     "metadata": {},
     "output_type": "display_data"
    },
    {
     "data": {
      "text/plain": [
       "<Figure size 1152x576 with 0 Axes>"
      ]
     },
     "metadata": {},
     "output_type": "display_data"
    }
   ],
   "source": [
    "# runing the function \"conducting_plot_Jaccard\"\n",
    "files = ['Age','BMI','IQ','NM','NS','alcohol','BM']\n",
    "ts = ['0.05', '0.01','fdr','bonferroni']\n",
    "conducting_plot_Jaccard('Jaccard/',files,ts,'CSA','figures/')\n",
    "conducting_plot_Jaccard('Jaccard/',files,ts,'CT','figures/')\n",
    "conducting_plot_Jaccard('Jaccard/',files,ts,'FC','figures/')"
   ]
  },
  {
   "cell_type": "code",
   "execution_count": 5,
   "metadata": {},
   "outputs": [],
   "source": [
    "# function to visualize the ICC\n",
    "def plot_ICC_figure(data,traits,t,my_type,output_file,times):\n",
    "    \n",
    "    trait_num = data.shape[1]\n",
    "    total_colors = ['#1f77b4', '#ff7f0e', '#2ca02c', '#d62728', '#8c564b', '#9467bd', '#e377c2', '#7f7f7f', '#bcbd22', '#17becf']\n",
    "    colors = total_colors[:trait_num]\n",
    "    \n",
    "    fig = plt.figure(figsize=(16,8))\n",
    "    total_pos1 = []\n",
    "    total_pos2 = []\n",
    "    for i in range(trait_num):\n",
    "        subsampling_times = times[i]\n",
    "        x = np.arange(0,subsampling_times*100,100) + 100\n",
    "        plt.plot(x,data[:subsampling_times,i],'k',color=colors[i],label=traits[i],linewidth=4)\n",
    "\n",
    "        for j in range(subsampling_times):\n",
    "            if data[j,i] > 0.5:\n",
    "                my_pos = (j + 1)*100\n",
    "                plt.scatter(my_pos, data[j,i], marker='s', color='black',s=80)\n",
    "                total_pos1.append(my_pos)\n",
    "                break\n",
    "        \n",
    "        for j in range(subsampling_times):   \n",
    "            if data[j,i] > 0.75:\n",
    "                my_pos = (j + 1)*100\n",
    "                plt.scatter(my_pos, data[j,i], marker='s', color='black',s=80)\n",
    "                total_pos2.append(my_pos)\n",
    "                break\n",
    "                \n",
    "    print(my_type,t,\"pos above 0.5:\",total_pos1)\n",
    "    print(my_type,t,\"pos above 0.75:\",total_pos2)  \n",
    "    plt.hlines(y=0.5,xmin=-500,xmax=subsampling_times*100,linestyles='dashed',linewidth=4,color ='gray')\n",
    "    plt.hlines(y=0.75,xmin=-500,xmax=subsampling_times*100,linestyles='dashed',linewidth=4,color ='black')\n",
    "\n",
    "    my_title = my_type + \": the largest \" + str(int(float(t) * 100)) + \"% measures\"\n",
    "    \n",
    "    ax = plt.gca()\n",
    "    ax.spines['top'].set_linewidth(3)\n",
    "    ax.spines['bottom'].set_linewidth(3)\n",
    "    ax.spines['left'].set_linewidth(3)\n",
    "    ax.spines['right'].set_linewidth(3)\n",
    "    \n",
    "    plt.title(my_title,fontsize=30)\n",
    "    plt.ylabel('ICC',fontsize=30)\n",
    "    plt.ylim(-0.05,1.1)\n",
    "    plt.xlim(-500,subsampling_times*100)\n",
    "    plt.xlabel('sample size',fontsize=30)\n",
    "    plt.tick_params(direction='out', length=10, width=4,labelsize=30)\n",
    "    fig.savefig(output_file,dpi=300,bbox_inches = 'tight')\n",
    "    plt.clf()"
   ]
  },
  {
   "cell_type": "markdown",
   "metadata": {},
   "source": [
    "## conducting_plot_ICC: main function to plot ICC\n",
    "### The input parameters are as below:\n",
    "\n",
    "1. mypath is the folder which includes the ICC results\n",
    "\n",
    "2. files are the phenotypes, for example, files = ['Age','BMI','IQ','NM','NS','alcohol','BM']\n",
    "\n",
    "3. ts are t values which indicate the proportion of correlations to calculate the ICC: 0.1,0.15,0.2,0.25,0.5,1\n",
    "\n",
    "4. my_type indicates the imaging type: \"CSA\",\"CT\", or \"FC\"\n",
    "\n",
    "5. output_path is the folder to save the ICC figures"
   ]
  },
  {
   "cell_type": "code",
   "execution_count": 6,
   "metadata": {},
   "outputs": [],
   "source": [
    "def conducting_plot_ICC(mypath,files,ts,my_type,output_path):\n",
    "    # The maximum sample size in x axis is 16,000\n",
    "    subsampling_times = 160\n",
    "    for t in ts:\n",
    "        ICC_data = np.zeros((subsampling_times,len(files)))\n",
    "        real_subsampling_times = []\n",
    "        for i in range(len(files)):\n",
    "            f = files[i]\n",
    "            reliability = pd.read_csv(mypath+f+'/'+my_type+'_ICC_'+t+'.csv')\n",
    "            tmp = reliability.shape[0]\n",
    "            if tmp > subsampling_times:\n",
    "                tmp = subsampling_times\n",
    "            real_subsampling_times.append(tmp)\n",
    "\n",
    "            ICC_data[:tmp,i] = np.round(savgol_filter(reliability.iloc[:tmp,0].values,7,2),3)\n",
    "\n",
    "        plot_ICC_figure(ICC_data,files,t,my_type,output_path+my_type+'_ICC_'+t+'.png',real_subsampling_times)"
   ]
  },
  {
   "cell_type": "code",
   "execution_count": 8,
   "metadata": {},
   "outputs": [
    {
     "name": "stdout",
     "output_type": "stream",
     "text": [
      "CSA 0.1 pos above 0.5: [300, 1300, 4500, 2300, 12100, 13300]\n",
      "CSA 0.1 pos above 0.75: [700, 3200, 14200, 5700]\n",
      "CSA 0.15 pos above 0.5: [300, 1200, 4300, 2200, 12100, 13300]\n",
      "CSA 0.15 pos above 0.75: [700, 3200, 11200, 5500]\n",
      "CSA 0.2 pos above 0.5: [300, 1200, 4200, 2200, 12200, 13500]\n",
      "CSA 0.2 pos above 0.75: [700, 3200, 10500, 5500]\n",
      "CSA 0.25 pos above 0.5: [300, 1200, 4400, 2200, 13700, 14500]\n",
      "CSA 0.25 pos above 0.75: [700, 3400, 10500, 5500]\n",
      "CSA 0.5 pos above 0.5: [300, 1500, 4700, 2500]\n",
      "CSA 0.5 pos above 0.75: [800, 4200, 12500, 6800]\n",
      "CSA 1 pos above 0.5: [500, 2300, 6900, 3700]\n",
      "CSA 1 pos above 0.75: [1300, 6600, 10900]\n",
      "CT 0.1 pos above 0.5: [100, 600, 5700, 10500, 7600, 2100]\n",
      "CT 0.1 pos above 0.75: [300, 1500, 13500, 4800]\n",
      "CT 0.15 pos above 0.5: [100, 600, 5700, 10500, 7600, 2200]\n",
      "CT 0.15 pos above 0.75: [300, 1400, 13400, 5100]\n",
      "CT 0.2 pos above 0.5: [100, 600, 5700, 10500, 8400, 2300]\n",
      "CT 0.2 pos above 0.75: [300, 1400, 14200, 5600]\n",
      "CT 0.25 pos above 0.5: [100, 600, 6700, 10500, 8600, 2400]\n",
      "CT 0.25 pos above 0.75: [300, 1500, 14900, 6100]\n",
      "CT 0.5 pos above 0.5: [200, 700, 8300, 12400, 9800, 3300]\n",
      "CT 0.5 pos above 0.75: [400, 1600, 8500]\n",
      "CT 1 pos above 0.5: [200, 900, 11700, 14700, 4800]\n",
      "CT 1 pos above 0.75: [500, 2600, 13800]\n",
      "FC 0.1 pos above 0.5: [300, 1000, 1700, 1800, 2400, 3300]\n",
      "FC 0.1 pos above 0.75: [600, 2500, 3700, 4200, 5300, 8600]\n",
      "FC 0.15 pos above 0.5: [300, 1100, 1700, 1900, 2500, 3300]\n",
      "FC 0.15 pos above 0.75: [700, 2700, 3900, 4500, 5600, 8600]\n",
      "FC 0.2 pos above 0.5: [300, 1100, 1800, 2000, 2500, 3400]\n",
      "FC 0.2 pos above 0.75: [700, 2800, 4300, 4900, 6200, 8800]\n",
      "FC 0.25 pos above 0.5: [300, 1100, 1900, 2000, 2600, 3500]\n",
      "FC 0.25 pos above 0.75: [800, 2800, 4500, 5200, 6300, 9100]\n",
      "FC 0.5 pos above 0.5: [400, 1300, 2400, 2600, 3200, 4300]\n",
      "FC 0.5 pos above 0.75: [1000, 3500, 6400, 7200, 8200, 11300]\n",
      "FC 1 pos above 0.5: [600, 1800, 3400, 3800, 4700, 5900]\n",
      "FC 1 pos above 0.75: [1500, 5400, 9900, 11200, 13100]\n"
     ]
    },
    {
     "data": {
      "text/plain": [
       "<Figure size 1152x576 with 0 Axes>"
      ]
     },
     "metadata": {},
     "output_type": "display_data"
    },
    {
     "data": {
      "text/plain": [
       "<Figure size 1152x576 with 0 Axes>"
      ]
     },
     "metadata": {},
     "output_type": "display_data"
    },
    {
     "data": {
      "text/plain": [
       "<Figure size 1152x576 with 0 Axes>"
      ]
     },
     "metadata": {},
     "output_type": "display_data"
    },
    {
     "data": {
      "text/plain": [
       "<Figure size 1152x576 with 0 Axes>"
      ]
     },
     "metadata": {},
     "output_type": "display_data"
    },
    {
     "data": {
      "text/plain": [
       "<Figure size 1152x576 with 0 Axes>"
      ]
     },
     "metadata": {},
     "output_type": "display_data"
    },
    {
     "data": {
      "text/plain": [
       "<Figure size 1152x576 with 0 Axes>"
      ]
     },
     "metadata": {},
     "output_type": "display_data"
    },
    {
     "data": {
      "text/plain": [
       "<Figure size 1152x576 with 0 Axes>"
      ]
     },
     "metadata": {},
     "output_type": "display_data"
    },
    {
     "data": {
      "text/plain": [
       "<Figure size 1152x576 with 0 Axes>"
      ]
     },
     "metadata": {},
     "output_type": "display_data"
    },
    {
     "data": {
      "text/plain": [
       "<Figure size 1152x576 with 0 Axes>"
      ]
     },
     "metadata": {},
     "output_type": "display_data"
    },
    {
     "data": {
      "text/plain": [
       "<Figure size 1152x576 with 0 Axes>"
      ]
     },
     "metadata": {},
     "output_type": "display_data"
    },
    {
     "data": {
      "text/plain": [
       "<Figure size 1152x576 with 0 Axes>"
      ]
     },
     "metadata": {},
     "output_type": "display_data"
    },
    {
     "data": {
      "text/plain": [
       "<Figure size 1152x576 with 0 Axes>"
      ]
     },
     "metadata": {},
     "output_type": "display_data"
    },
    {
     "data": {
      "text/plain": [
       "<Figure size 1152x576 with 0 Axes>"
      ]
     },
     "metadata": {},
     "output_type": "display_data"
    },
    {
     "data": {
      "text/plain": [
       "<Figure size 1152x576 with 0 Axes>"
      ]
     },
     "metadata": {},
     "output_type": "display_data"
    },
    {
     "data": {
      "text/plain": [
       "<Figure size 1152x576 with 0 Axes>"
      ]
     },
     "metadata": {},
     "output_type": "display_data"
    },
    {
     "data": {
      "text/plain": [
       "<Figure size 1152x576 with 0 Axes>"
      ]
     },
     "metadata": {},
     "output_type": "display_data"
    },
    {
     "data": {
      "text/plain": [
       "<Figure size 1152x576 with 0 Axes>"
      ]
     },
     "metadata": {},
     "output_type": "display_data"
    },
    {
     "data": {
      "text/plain": [
       "<Figure size 1152x576 with 0 Axes>"
      ]
     },
     "metadata": {},
     "output_type": "display_data"
    }
   ],
   "source": [
    "# runing the function \"conducting_plot_ICC\"\n",
    "files = ['Age','BMI','IQ','NM','NS','alcohol','BM']\n",
    "ts = ['0.1', '0.15', '0.2', '0.25','0.5','1']\n",
    "conducting_plot_ICC('ICC/',files,ts,'CSA','figures/')\n",
    "conducting_plot_ICC('ICC/',files,ts,'CT','figures/')\n",
    "conducting_plot_ICC('ICC/',files,ts,'FC','figures/')"
   ]
  },
  {
   "cell_type": "code",
   "execution_count": null,
   "metadata": {},
   "outputs": [],
   "source": []
  }
 ],
 "metadata": {
  "kernelspec": {
   "display_name": "Python 3",
   "language": "python",
   "name": "python3"
  },
  "language_info": {
   "codemirror_mode": {
    "name": "ipython",
    "version": 3
   },
   "file_extension": ".py",
   "mimetype": "text/x-python",
   "name": "python",
   "nbconvert_exporter": "python",
   "pygments_lexer": "ipython3",
   "version": "3.7.3"
  }
 },
 "nbformat": 4,
 "nbformat_minor": 2
}
